{
 "cells": [
  {
   "cell_type": "code",
   "execution_count": 1,
   "metadata": {},
   "outputs": [
    {
     "name": "stdout",
     "output_type": "stream",
     "text": [
      "jksbiuk\n"
     ]
    }
   ],
   "source": [
    "print(\"jksbiuk\")"
   ]
  },
  {
   "cell_type": "code",
   "execution_count": 2,
   "metadata": {},
   "outputs": [
    {
     "name": "stdout",
     "output_type": "stream",
     "text": [
      "* \n",
      "* * \n",
      "* * * \n",
      "* * * * \n",
      "* * * * * \n"
     ]
    }
   ],
   "source": [
    "rows = 5\n",
    "for i in range(0, rows):\n",
    "    for j in range(0, i + 1):\n",
    "        print(\"*\", end=' ')\n",
    "    print(\"\\r\")"
   ]
  },
  {
   "cell_type": "code",
   "execution_count": 4,
   "metadata": {},
   "outputs": [
    {
     "name": "stdout",
     "output_type": "stream",
     "text": [
      "a != b is True\n",
      "a < b is False\n",
      "a <= b is False\n"
     ]
    }
   ],
   "source": [
    "a = 5\n",
    "b = 2\n",
    "print(\"a != b is\", a != b)\n",
    "print(\"a < b is\", a < b)\n",
    "print(\"a <= b is\", a <= b)"
   ]
  },
  {
   "cell_type": "code",
   "execution_count": 11,
   "metadata": {},
   "outputs": [
    {
     "name": "stdout",
     "output_type": "stream",
     "text": [
      "Marks: [56, 78, 89, 98, 45, 67]\n",
      "Median: 72.5\n"
     ]
    }
   ],
   "source": [
    "def bubbleSort(arr):\n",
    "    n = len(arr)\n",
    "    for i in range(n):\n",
    "        for j in range(0, n-i-1):\n",
    "            if arr[j] > arr[j+1] :\n",
    "                arr[j], arr[j+1] = arr[j+1], arr[j]\n",
    "\n",
    "def calcMedian(marks):\n",
    "    n = len(marks)\n",
    "    bubbleSort(marks)\n",
    "    if n % 2 != 0:\n",
    "        return marks[n//2]\n",
    "    return (marks[(n-1)//2] + marks[n//2])/2\n",
    "\n",
    "marks = [56, 78, 89, 98, 45, 67]\n",
    "print(\"Marks:\", marks)  \n",
    "print(\"Median:\", calcMedian(marks))"
   ]
  },
  {
   "cell_type": "code",
   "execution_count": 14,
   "metadata": {},
   "outputs": [
    {
     "name": "stdout",
     "output_type": "stream",
     "text": [
      "ajy\n"
     ]
    }
   ],
   "source": [
    "def sortString(str):\n",
    "    lowerStr = str.lower()\n",
    "    sortedStr = sorted(lowerStr)\n",
    "    print(\"\".join(sortedStr))\n",
    "\n",
    "sortString(\"jay\")"
   ]
  },
  {
   "cell_type": "code",
   "execution_count": 17,
   "metadata": {},
   "outputs": [
    {
     "name": "stdout",
     "output_type": "stream",
     "text": [
      "  * \n",
      " * * \n",
      "* * * \n",
      " * * \n",
      "  * \n"
     ]
    }
   ],
   "source": [
    "def diamond(rows):\n",
    "  for i in range(rows):\n",
    "    print(\" \" * (rows - i - 1) + \"* \" * (i + 1))\n",
    "  for j in range(rows - 2, -1, -1):\n",
    "    print(\" \" * (rows - j - 1) + \"* \" * (j + 1))\n",
    "\n",
    "diamond(3)"
   ]
  }
 ],
 "metadata": {
  "kernelspec": {
   "display_name": "base",
   "language": "python",
   "name": "python3"
  },
  "language_info": {
   "codemirror_mode": {
    "name": "ipython",
    "version": 3
   },
   "file_extension": ".py",
   "mimetype": "text/x-python",
   "name": "python",
   "nbconvert_exporter": "python",
   "pygments_lexer": "ipython3",
   "version": "3.12.7"
  }
 },
 "nbformat": 4,
 "nbformat_minor": 2
}
